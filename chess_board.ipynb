{
  "nbformat": 4,
  "nbformat_minor": 0,
  "metadata": {
    "colab": {
      "name": "chess_board.ipynb",
      "provenance": [],
      "collapsed_sections": [],
      "authorship_tag": "ABX9TyMiHyCRijrwykRF8W8sTcR7",
      "include_colab_link": true
    },
    "kernelspec": {
      "name": "python3",
      "display_name": "Python 3"
    },
    "language_info": {
      "name": "python"
    }
  },
  "cells": [
    {
      "cell_type": "markdown",
      "metadata": {
        "id": "view-in-github",
        "colab_type": "text"
      },
      "source": [
        "<a href=\"https://colab.research.google.com/github/Edward-Regalado/chess_board/blob/main/chess_board.ipynb\" target=\"_parent\"><img src=\"https://colab.research.google.com/assets/colab-badge.svg\" alt=\"Open In Colab\"/></a>"
      ]
    },
    {
      "cell_type": "code",
      "metadata": {
        "id": "ePQdKfjBFEkj"
      },
      "source": [
        "import numpy as np\n",
        "import matplotlib.pyplot as plt"
      ],
      "execution_count": null,
      "outputs": []
    },
    {
      "cell_type": "code",
      "metadata": {
        "id": "wyGDxWU3FKTk"
      },
      "source": [
        "class Board:\n",
        "    def __init__(self):\n",
        "        # create the board\n",
        "        # [starIndex:endIndex:stepSzie]\n",
        "        self.grid = np.zeros([8, 8, 3])\n",
        "        self.grid[1::2, ::2] = 1\n",
        "        self.grid[::2, 1::2] = 1\n",
        "\n",
        "    def add_red(self, row, col):\n",
        "        red_queen = (1, .2, 0)\n",
        "        self.grid[row, col] = red_queen\n",
        "        self.red_queen = [row, col]\n",
        "\n",
        "    def add_blue(self, row, col):\n",
        "        blue_queen = (0, .5, 1)\n",
        "        self.grid[row, col] = blue_queen\n",
        "        self.blue_queen = [row, col]\n",
        "    \n",
        "    def render(self):\n",
        "          # display the chess board\n",
        "          plt.imshow(self.grid)\n",
        "\n",
        "    def is_under_attack(self):\n",
        "        red_coords = None\n",
        "        blue_coords = None\n",
        "\n",
        "        for i, row in enumerate(self.grid):\n",
        "            for j,col in enumerate(row):\n",
        "                if np.array_equal(col,self.blue_queen):\n",
        "                    blue_coords = (i, j)\n",
        "                if np.array_equal(col,self.red_queen):\n",
        "                    red_coord = (i, j)\n",
        "\n",
        "            if not blue_coords or not red_coord:\n",
        "                # if theres not a blue or red queen, return false\n",
        "                return False\n",
        "            \n",
        "            if blue_coords[0] == red_coord[0]:\n",
        "                return True\n",
        "\n",
        "            if blue_coord[1] == red_coords[1]:\n",
        "                return True\n",
        "\n",
        "            diag_y = abs(blue_coords[0] - red_coords[0])\n",
        "            diag_x = abs(blue_coords[1] - red_coords[1])\n",
        "\n",
        "            return diag_x == diag_y\n",
        "            # if x diag is strictly equal to y diag, return true\n",
        "            \n",
        "\n",
        "        pass\n"
      ],
      "execution_count": null,
      "outputs": []
    },
    {
      "cell_type": "code",
      "metadata": {
        "colab": {
          "base_uri": "https://localhost:8080/",
          "height": 282
        },
        "id": "vc-Qu2gmFmE_",
        "outputId": "38093ef4-c8f9-4492-ccf7-4985a83c7a29"
      },
      "source": [
        "# diag = True\n",
        "board = Board()\n",
        "board.add_red(0, 0)\n",
        "board.add_blue(7, 7)\n",
        "board.render()\n",
        "assert not board.is_under_attack()\n",
        "print('*** Under Attack ***')"
      ],
      "execution_count": null,
      "outputs": [
        {
          "output_type": "stream",
          "text": [
            "*** Under Attack ***\n"
          ],
          "name": "stdout"
        },
        {
          "output_type": "display_data",
          "data": {
            "image/png": "[encoded data removed]",
            "text/plain": [
              "<Figure size 432x288 with 1 Axes>"
            ]
          },
          "metadata": {
            "tags": [],
            "needs_background": "light"
          }
        }
      ]
    },
    {
      "cell_type": "code",
      "metadata": {
        "colab": {
          "base_uri": "https://localhost:8080/",
          "height": 282
        },
        "id": "1m-PWP_sb2vx",
        "outputId": "672915df-4ceb-4ca8-faf7-eedb8b62c569"
      },
      "source": [
        "# Same col = True\n",
        "board = Board()\n",
        "board.add_red(0, 0)\n",
        "board.add_blue(7, 0)\n",
        "board.render()\n",
        "assert not board.is_under_attack()\n",
        "print('*** Under Attack ***')"
      ],
      "execution_count": null,
      "outputs": [
        {
          "output_type": "stream",
          "text": [
            "*** Under Attack ***\n"
          ],
          "name": "stdout"
        },
        {
          "output_type": "display_data",
          "data": {
            "image/png": "[encoded data removed]",
            "text/plain": [
              "<Figure size 432x288 with 1 Axes>"
            ]
          },
          "metadata": {
            "tags": [],
            "needs_background": "light"
          }
        }
      ]
    },
    {
      "cell_type": "code",
      "metadata": {
        "colab": {
          "base_uri": "https://localhost:8080/",
          "height": 282
        },
        "id": "B6iTBsL7cMIC",
        "outputId": "4a33d500-0b99-42ff-83af-d20c88b5f8c7"
      },
      "source": [
        "# same row = True\n",
        "board = Board()\n",
        "board.add_red(0, 0)\n",
        "board.add_blue(0, 7)\n",
        "board.render()\n",
        "assert not board.is_under_attack()\n",
        "print('*** Under Attack ***')"
      ],
      "execution_count": null,
      "outputs": [
        {
          "output_type": "stream",
          "text": [
            "*** Under Attack ***\n"
          ],
          "name": "stdout"
        },
        {
          "output_type": "display_data",
          "data": {
            "image/png": "[encoded data removed]",
            "text/plain": [
              "<Figure size 432x288 with 1 Axes>"
            ]
          },
          "metadata": {
            "tags": [],
            "needs_background": "light"
          }
        }
      ]
    },
    {
      "cell_type": "code",
      "metadata": {
        "colab": {
          "base_uri": "https://localhost:8080/",
          "height": 282
        },
        "id": "P3u5hye9cnN2",
        "outputId": "e46c4e45-b27f-4a77-9a09-2935ef9f6907"
      },
      "source": [
        "# show Flase\n",
        "board = Board()\n",
        "board.add_red(0, 0)\n",
        "board.add_blue(1, 2)\n",
        "board.render()\n",
        "assert not board.is_under_attack()\n",
        "print('*** Not Under Attack ***')"
      ],
      "execution_count": null,
      "outputs": [
        {
          "output_type": "stream",
          "text": [
            "*** Not Under Attack ***\n"
          ],
          "name": "stdout"
        },
        {
          "output_type": "display_data",
          "data": {
            "image/png": "[encoded data removed]",
            "text/plain": [
              "<Figure size 432x288 with 1 Axes>"
            ]
          },
          "metadata": {
            "tags": [],
            "needs_background": "light"
          }
        }
      ]
    }
  ]
}